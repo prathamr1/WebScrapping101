{
  "cells": [
    {
      "cell_type": "markdown",
      "metadata": {
        "id": "view-in-github",
        "colab_type": "text"
      },
      "source": [
        "<a href=\"https://colab.research.google.com/github/prathamr1/WebScrapping101/blob/main/scraping.ipynb\" target=\"_parent\"><img src=\"https://colab.research.google.com/assets/colab-badge.svg\" alt=\"Open In Colab\"/></a>"
      ]
    },
    {
      "cell_type": "code",
      "execution_count": 7,
      "id": "9b9cfe05-12da-4586-a9bd-87d9e98789b2",
      "metadata": {
        "colab": {
          "base_uri": "https://localhost:8080/"
        },
        "id": "9b9cfe05-12da-4586-a9bd-87d9e98789b2",
        "outputId": "2056d185-2b37-409d-ad49-b6dbf8aac800"
      },
      "outputs": [
        {
          "output_type": "stream",
          "name": "stdout",
          "text": [
            "Requirement already satisfied: requests in /usr/local/lib/python3.11/dist-packages (2.32.3)\n",
            "Requirement already satisfied: charset-normalizer<4,>=2 in /usr/local/lib/python3.11/dist-packages (from requests) (3.4.2)\n",
            "Requirement already satisfied: idna<4,>=2.5 in /usr/local/lib/python3.11/dist-packages (from requests) (3.10)\n",
            "Requirement already satisfied: urllib3<3,>=1.21.1 in /usr/local/lib/python3.11/dist-packages (from requests) (2.4.0)\n",
            "Requirement already satisfied: certifi>=2017.4.17 in /usr/local/lib/python3.11/dist-packages (from requests) (2025.6.15)\n"
          ]
        }
      ],
      "source": [
        "pip install requests"
      ]
    },
    {
      "cell_type": "code",
      "execution_count": 8,
      "id": "7c70068b-448b-4c38-ae1e-b45ba0b74caa",
      "metadata": {
        "colab": {
          "base_uri": "https://localhost:8080/"
        },
        "id": "7c70068b-448b-4c38-ae1e-b45ba0b74caa",
        "outputId": "dae9cd9b-a41a-404d-ec5c-e8309cee487a"
      },
      "outputs": [
        {
          "output_type": "stream",
          "name": "stdout",
          "text": [
            "Requirement already satisfied: beautifulsoup4 in /usr/local/lib/python3.11/dist-packages (4.13.4)\n",
            "Requirement already satisfied: soupsieve>1.2 in /usr/local/lib/python3.11/dist-packages (from beautifulsoup4) (2.7)\n",
            "Requirement already satisfied: typing-extensions>=4.0.0 in /usr/local/lib/python3.11/dist-packages (from beautifulsoup4) (4.14.0)\n"
          ]
        }
      ],
      "source": [
        "pip install beautifulsoup4"
      ]
    },
    {
      "cell_type": "code",
      "execution_count": 9,
      "id": "bcf26b75-284d-4016-857d-e5260d8d681a",
      "metadata": {
        "colab": {
          "base_uri": "https://localhost:8080/"
        },
        "id": "bcf26b75-284d-4016-857d-e5260d8d681a",
        "outputId": "69ff2389-37a5-46f1-c2de-251696e55053"
      },
      "outputs": [
        {
          "output_type": "stream",
          "name": "stdout",
          "text": [
            "Requirement already satisfied: lxml in /usr/local/lib/python3.11/dist-packages (5.4.0)\n"
          ]
        }
      ],
      "source": [
        "pip install lxml"
      ]
    },
    {
      "cell_type": "code",
      "execution_count": 10,
      "id": "34e42456-67b9-4401-982c-d88566427bf7",
      "metadata": {
        "colab": {
          "base_uri": "https://localhost:8080/"
        },
        "id": "34e42456-67b9-4401-982c-d88566427bf7",
        "outputId": "cbcbb0f9-3362-42fc-e735-2daa08577af1"
      },
      "outputs": [
        {
          "output_type": "stream",
          "name": "stdout",
          "text": [
            "Requirement already satisfied: html5lib in /usr/local/lib/python3.11/dist-packages (1.1)\n",
            "Requirement already satisfied: six>=1.9 in /usr/local/lib/python3.11/dist-packages (from html5lib) (1.17.0)\n",
            "Requirement already satisfied: webencodings in /usr/local/lib/python3.11/dist-packages (from html5lib) (0.5.1)\n"
          ]
        }
      ],
      "source": [
        "pip install html5lib"
      ]
    },
    {
      "cell_type": "code",
      "execution_count": 11,
      "id": "ff52db2e-9fd5-4036-b8fa-1ea40d483156",
      "metadata": {
        "id": "ff52db2e-9fd5-4036-b8fa-1ea40d483156"
      },
      "outputs": [],
      "source": [
        "from bs4 import BeautifulSoup\n",
        "import requests"
      ]
    },
    {
      "cell_type": "code",
      "execution_count": 12,
      "id": "04b153a1-50ff-4f00-b185-7cd236c5dc38",
      "metadata": {
        "colab": {
          "base_uri": "https://localhost:8080/"
        },
        "id": "04b153a1-50ff-4f00-b185-7cd236c5dc38",
        "outputId": "f5b4d5a0-8c4c-4615-e9e1-dbffdff27213"
      },
      "outputs": [
        {
          "output_type": "stream",
          "name": "stdout",
          "text": [
            "<!DOCTYPE html>\n",
            "<html class=\"no-js\" lang=\"\">\n",
            "<head>\n",
            "<title>Test - A Sample Website</title>\n",
            "<meta charset=\"utf-8\"/>\n",
            "<link href=\"css/normalize.css\" rel=\"stylesheet\"/>\n",
            "<link href=\"css/main.css\" rel=\"stylesheet\"/>\n",
            "</head>\n",
            "<body>\n",
            "<h1 id=\"site_title\">Test Website</h1>\n",
            "<hr/>\n",
            "<div class=\"article\">\n",
            "<h2><a href=\"article_1.html\">Article 1 Headline</a></h2>\n",
            "<p>This is a summary of article 1</p>\n",
            "</div>\n",
            "<hr/>\n",
            "<!-- Embedded YouTube Video -->\n",
            "<div class=\"video-container\" style=\"text-align:center;\">\n",
            "<iframe allow=\"accelerometer; autoplay; clipboard-write; encrypted-media; gyroscope; picture-in-picture\" allowfullscreen=\"\" frameborder=\"0\" height=\"315\" src=\"https://www.youtube.com/embed/dQw4w9WgXcQ?list=RDdQw4w9WgXcQ&amp;start=0\" title=\"YouTube video player\" width=\"560\">\n",
            "</iframe>\n",
            "</div>\n",
            "<hr/>\n",
            "<div class=\"article\">\n",
            "<h2><a href=\"article_2.html\">Article 2 Headline</a></h2>\n",
            "<p>This is a summary of article 2</p>\n",
            "</div>\n",
            "<hr/>\n",
            "<div class=\"footer\">\n",
            "<p>Footer Information</p>\n",
            "</div>\n",
            "<script src=\"js/vendor/modernizr-3.5.0.min.js\"></script>\n",
            "<script src=\"js/plugins.js\"></script>\n",
            "<script src=\"js/main.js\"></script>\n",
            "</body>\n",
            "</html>\n",
            "\n"
          ]
        }
      ],
      "source": [
        "with open('simple.html') as html_file:\n",
        "    soup = BeautifulSoup(html_file, 'lxml')\n",
        "\n",
        "print(soup)"
      ]
    },
    {
      "cell_type": "code",
      "execution_count": 13,
      "id": "615e76a3-a697-4f12-ae2d-0a72ef5fa8fe",
      "metadata": {
        "colab": {
          "base_uri": "https://localhost:8080/"
        },
        "id": "615e76a3-a697-4f12-ae2d-0a72ef5fa8fe",
        "outputId": "4d8ae2b0-bcbb-4f81-acaa-fcf1c9a52cc8"
      },
      "outputs": [
        {
          "output_type": "stream",
          "name": "stdout",
          "text": [
            "<!DOCTYPE html>\n",
            "<html class=\"no-js\" lang=\"\">\n",
            " <head>\n",
            "  <title>\n",
            "   Test - A Sample Website\n",
            "  </title>\n",
            "  <meta charset=\"utf-8\"/>\n",
            "  <link href=\"css/normalize.css\" rel=\"stylesheet\"/>\n",
            "  <link href=\"css/main.css\" rel=\"stylesheet\"/>\n",
            " </head>\n",
            " <body>\n",
            "  <h1 id=\"site_title\">\n",
            "   Test Website\n",
            "  </h1>\n",
            "  <hr/>\n",
            "  <div class=\"article\">\n",
            "   <h2>\n",
            "    <a href=\"article_1.html\">\n",
            "     Article 1 Headline\n",
            "    </a>\n",
            "   </h2>\n",
            "   <p>\n",
            "    This is a summary of article 1\n",
            "   </p>\n",
            "  </div>\n",
            "  <hr/>\n",
            "  <!-- Embedded YouTube Video -->\n",
            "  <div class=\"video-container\" style=\"text-align:center;\">\n",
            "   <iframe allow=\"accelerometer; autoplay; clipboard-write; encrypted-media; gyroscope; picture-in-picture\" allowfullscreen=\"\" frameborder=\"0\" height=\"315\" src=\"https://www.youtube.com/embed/dQw4w9WgXcQ?list=RDdQw4w9WgXcQ&amp;start=0\" title=\"YouTube video player\" width=\"560\">\n",
            "   </iframe>\n",
            "  </div>\n",
            "  <hr/>\n",
            "  <div class=\"article\">\n",
            "   <h2>\n",
            "    <a href=\"article_2.html\">\n",
            "     Article 2 Headline\n",
            "    </a>\n",
            "   </h2>\n",
            "   <p>\n",
            "    This is a summary of article 2\n",
            "   </p>\n",
            "  </div>\n",
            "  <hr/>\n",
            "  <div class=\"footer\">\n",
            "   <p>\n",
            "    Footer Information\n",
            "   </p>\n",
            "  </div>\n",
            "  <script src=\"js/vendor/modernizr-3.5.0.min.js\">\n",
            "  </script>\n",
            "  <script src=\"js/plugins.js\">\n",
            "  </script>\n",
            "  <script src=\"js/main.js\">\n",
            "  </script>\n",
            " </body>\n",
            "</html>\n",
            "\n"
          ]
        }
      ],
      "source": [
        "print(soup.prettify())"
      ]
    },
    {
      "cell_type": "code",
      "execution_count": 14,
      "id": "81b8eac0-1741-430a-b8f5-b57fbcf41fa7",
      "metadata": {
        "colab": {
          "base_uri": "https://localhost:8080/"
        },
        "id": "81b8eac0-1741-430a-b8f5-b57fbcf41fa7",
        "outputId": "e95b6c7f-d4b3-4ad0-c6e3-461ecae1011b"
      },
      "outputs": [
        {
          "output_type": "stream",
          "name": "stdout",
          "text": [
            "Test - A Sample Website\n"
          ]
        }
      ],
      "source": [
        "match = soup.title.text\n",
        "print(match)"
      ]
    },
    {
      "cell_type": "code",
      "execution_count": 15,
      "id": "07d5788b-ec88-4505-8c07-086edce608a5",
      "metadata": {
        "colab": {
          "base_uri": "https://localhost:8080/"
        },
        "id": "07d5788b-ec88-4505-8c07-086edce608a5",
        "outputId": "570dd607-b8dc-4080-8a30-ac4136f12a94"
      },
      "outputs": [
        {
          "output_type": "stream",
          "name": "stdout",
          "text": [
            "<div class=\"article\">\n",
            "<h2><a href=\"article_1.html\">Article 1 Headline</a></h2>\n",
            "<p>This is a summary of article 1</p>\n",
            "</div>\n"
          ]
        }
      ],
      "source": [
        "article = soup.find('div', class_='article')\n",
        "print(article)\n",
        "#inspect tab on sample.html"
      ]
    },
    {
      "cell_type": "code",
      "execution_count": 16,
      "id": "0fe25073-cace-4bd5-b0ab-2f195a3a1dba",
      "metadata": {
        "id": "0fe25073-cace-4bd5-b0ab-2f195a3a1dba"
      },
      "outputs": [],
      "source": [
        "headline = article.h2.a.text"
      ]
    },
    {
      "cell_type": "code",
      "execution_count": 17,
      "id": "4a04fe6b-f995-4595-b790-48a257dfc285",
      "metadata": {
        "colab": {
          "base_uri": "https://localhost:8080/"
        },
        "id": "4a04fe6b-f995-4595-b790-48a257dfc285",
        "outputId": "c2d3d517-f339-4aa4-cf4e-1fac088fb89d"
      },
      "outputs": [
        {
          "output_type": "stream",
          "name": "stdout",
          "text": [
            "Article 1 Headline\n"
          ]
        }
      ],
      "source": [
        "print(headline)"
      ]
    },
    {
      "cell_type": "code",
      "execution_count": 18,
      "id": "da9d644b-f20c-46bc-8b2d-f1f8b099e722",
      "metadata": {
        "id": "da9d644b-f20c-46bc-8b2d-f1f8b099e722"
      },
      "outputs": [],
      "source": [
        "summary = article.p.text"
      ]
    },
    {
      "cell_type": "code",
      "execution_count": 19,
      "id": "5d3ed2e7-2545-409b-8907-c22b3d6cc9b6",
      "metadata": {
        "colab": {
          "base_uri": "https://localhost:8080/"
        },
        "id": "5d3ed2e7-2545-409b-8907-c22b3d6cc9b6",
        "outputId": "ad2b9ee1-74ae-4d13-9279-7421440f2f40"
      },
      "outputs": [
        {
          "output_type": "stream",
          "name": "stdout",
          "text": [
            "This is a summary of article 1\n"
          ]
        }
      ],
      "source": [
        "print(summary)"
      ]
    },
    {
      "cell_type": "code",
      "execution_count": 20,
      "id": "0d337541-3ab6-473c-abd9-fb1136ad1556",
      "metadata": {
        "colab": {
          "base_uri": "https://localhost:8080/"
        },
        "id": "0d337541-3ab6-473c-abd9-fb1136ad1556",
        "outputId": "d8260251-3e78-46c3-efd3-471940723977"
      },
      "outputs": [
        {
          "output_type": "stream",
          "name": "stdout",
          "text": [
            "Article 1 Headline\n",
            "This is a summary of article 1\n",
            "\n",
            "Article 2 Headline\n",
            "This is a summary of article 2\n",
            "\n"
          ]
        }
      ],
      "source": [
        "for article in soup.find_all('div', class_='article'):\n",
        "    headline = article.h2.a.text\n",
        "    summary = article.p.text\n",
        "    print(headline)\n",
        "    print(summary)\n",
        "    print()"
      ]
    },
    {
      "cell_type": "code",
      "execution_count": 21,
      "id": "63a2e725-66d4-4f4a-a5ba-83b4893c59e6",
      "metadata": {
        "id": "63a2e725-66d4-4f4a-a5ba-83b4893c59e6"
      },
      "outputs": [],
      "source": [
        "# source = requests.get('http://website.com').text"
      ]
    },
    {
      "cell_type": "code",
      "execution_count": 22,
      "id": "6f077e81-0898-4a89-ba9e-8aecd1f6ea8e",
      "metadata": {
        "colab": {
          "base_uri": "https://localhost:8080/"
        },
        "id": "6f077e81-0898-4a89-ba9e-8aecd1f6ea8e",
        "outputId": "37658eba-cec7-4502-ac78-190d7f6ae851"
      },
      "outputs": [
        {
          "output_type": "stream",
          "name": "stdout",
          "text": [
            "https://www.youtube.com/embed/dQw4w9WgXcQ?list=RDdQw4w9WgXcQ&start=0\n"
          ]
        }
      ],
      "source": [
        "vid_src = soup.find('div', class_='video-container').find('iframe')['src']\n",
        "print(vid_src)"
      ]
    },
    {
      "cell_type": "code",
      "execution_count": 23,
      "id": "59875c3b-a8ac-4792-a76c-5b125f908075",
      "metadata": {
        "colab": {
          "base_uri": "https://localhost:8080/"
        },
        "id": "59875c3b-a8ac-4792-a76c-5b125f908075",
        "outputId": "3fbbb6a3-8223-4472-931c-d35022d3c414"
      },
      "outputs": [
        {
          "output_type": "stream",
          "name": "stdout",
          "text": [
            "dQw4w9WgXcQ?list=RDdQw4w9WgXcQ&start=0\n"
          ]
        }
      ],
      "source": [
        "vid_id = vid_src.split('/')[4]\n",
        "print(vid_id)"
      ]
    },
    {
      "cell_type": "code",
      "execution_count": 24,
      "id": "1534fa2d-5850-49b9-89c0-b4c24d3138ac",
      "metadata": {
        "colab": {
          "base_uri": "https://localhost:8080/"
        },
        "id": "1534fa2d-5850-49b9-89c0-b4c24d3138ac",
        "outputId": "f8e636b3-4bc1-49b0-cf30-993540ae3ec2"
      },
      "outputs": [
        {
          "output_type": "stream",
          "name": "stdout",
          "text": [
            "dQw4w9WgXcQ\n"
          ]
        }
      ],
      "source": [
        "vid_id = vid_id.split('?')[0]\n",
        "print(vid_id)"
      ]
    },
    {
      "cell_type": "code",
      "execution_count": 25,
      "id": "97500084-7cda-490c-9106-540117507696",
      "metadata": {
        "colab": {
          "base_uri": "https://localhost:8080/"
        },
        "id": "97500084-7cda-490c-9106-540117507696",
        "outputId": "2e299f77-91ba-432b-d1d6-3b2603f33fa6"
      },
      "outputs": [
        {
          "output_type": "stream",
          "name": "stdout",
          "text": [
            "https://youtube.com/watch?v=dQw4w9WgXcQ\n"
          ]
        }
      ],
      "source": [
        "yt_link = f'https://youtube.com/watch?v={vid_id}'\n",
        "print(yt_link)"
      ]
    },
    {
      "cell_type": "code",
      "execution_count": 26,
      "id": "a4a4c4fc-9f4a-4e3a-8517-2313ff4cb9dd",
      "metadata": {
        "id": "a4a4c4fc-9f4a-4e3a-8517-2313ff4cb9dd"
      },
      "outputs": [],
      "source": [
        "import csv"
      ]
    },
    {
      "cell_type": "code",
      "execution_count": 27,
      "id": "791c5114-c312-44b5-b74f-3a2e2cb34bdb",
      "metadata": {
        "id": "791c5114-c312-44b5-b74f-3a2e2cb34bdb"
      },
      "outputs": [],
      "source": [
        "csv_file = open('cms_scrape.csv', 'w')"
      ]
    },
    {
      "cell_type": "code",
      "execution_count": 28,
      "id": "b05ac33c-0ce7-4732-a564-97357833578b",
      "metadata": {
        "id": "b05ac33c-0ce7-4732-a564-97357833578b"
      },
      "outputs": [],
      "source": [
        "csv_writer = csv.writer(csv_file)"
      ]
    },
    {
      "cell_type": "code",
      "execution_count": 29,
      "id": "17dd40f2-7a00-4a71-9f3d-74627b117f5f",
      "metadata": {
        "colab": {
          "base_uri": "https://localhost:8080/"
        },
        "id": "17dd40f2-7a00-4a71-9f3d-74627b117f5f",
        "outputId": "a1fca2b2-ea39-48cb-a4d2-9e92f734d5da"
      },
      "outputs": [
        {
          "output_type": "stream",
          "name": "stdout",
          "text": [
            "Article 1 Headline\n",
            "This is a summary of article 1\n",
            "https://youtube.com/watch?v=dQw4w9WgXcQ\n",
            "\n",
            "Article 2 Headline\n",
            "This is a summary of article 2\n",
            "https://youtube.com/watch?v=dQw4w9WgXcQ\n",
            "\n"
          ]
        }
      ],
      "source": [
        "import csv\n",
        "\n",
        "csv_file = open('cms_scrape.csv', 'w', newline='', encoding='utf-8')\n",
        "csv_writer = csv.writer(csv_file)\n",
        "csv_writer.writerow(['headline', 'summary', 'video_link'])\n",
        "\n",
        "# Extract video link once, since it's outside the articles\n",
        "try:\n",
        "    vid_src = soup.find('div', class_='video-container').find('iframe')['src']\n",
        "    vid_id = vid_src.split('/')[4].split('?')[0]\n",
        "    yt_link = f'https://youtube.com/watch?v={vid_id}'\n",
        "except Exception:\n",
        "    yt_link = None\n",
        "\n",
        "for article in soup.find_all('div', class_='article'):\n",
        "    headline = article.h2.a.text.strip()\n",
        "    summary = article.p.text.strip()\n",
        "\n",
        "    # Use the same yt_link for all articles, or None if no video found\n",
        "    print(headline)\n",
        "    print(summary)\n",
        "    print(yt_link)\n",
        "    print()\n",
        "\n",
        "    csv_writer.writerow([headline, summary, yt_link])\n",
        "\n",
        "csv_file.close()\n"
      ]
    },
    {
      "cell_type": "code",
      "execution_count": 29,
      "id": "eeaf6fbb-8a29-4456-acbd-39189b5bc454",
      "metadata": {
        "id": "eeaf6fbb-8a29-4456-acbd-39189b5bc454"
      },
      "outputs": [],
      "source": []
    }
  ],
  "metadata": {
    "kernelspec": {
      "display_name": "Python [conda env:env]",
      "language": "python",
      "name": "conda-env-env-py"
    },
    "language_info": {
      "codemirror_mode": {
        "name": "ipython",
        "version": 3
      },
      "file_extension": ".py",
      "mimetype": "text/x-python",
      "name": "python",
      "nbconvert_exporter": "python",
      "pygments_lexer": "ipython3",
      "version": "3.12.11"
    },
    "colab": {
      "provenance": [],
      "include_colab_link": true
    }
  },
  "nbformat": 4,
  "nbformat_minor": 5
}